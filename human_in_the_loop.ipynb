{
 "cells": [
  {
   "cell_type": "code",
   "execution_count": 7,
   "id": "8f83c944",
   "metadata": {},
   "outputs": [],
   "source": [
    "import getpass\n",
    "import os\n",
    "from dotenv import load_dotenv\n",
    "from langchain.chat_models import init_chat_model\n",
    "\n",
    "os.environ[\"LANGCHAIN_TRACING_V2\"] = \"true\"\n",
    "\n",
    "load_dotenv()\n",
    "if \"OPENAI_API_KEY\" not in os.environ:\n",
    "    os.environ[\"OPENAI_API_KEY\"] = getpass.getpass(\"Enter your OpenAI API key: \")\n",
    "if \"LANGCHAIN_API_KEY\" not in os.environ:\n",
    "    os.environ[\"LANGCHAIN_API_KEY\"] = getpass.getpass(\"Enter your LangChain API key: \")\n",
    "\n",
    "model = init_chat_model(\n",
    "    \"openai:gpt-4o\",\n",
    "    temperature=0.7\n",
    ")"
   ]
  },
  {
   "cell_type": "code",
   "execution_count": 13,
   "id": "98ccf0f3",
   "metadata": {},
   "outputs": [
    {
     "name": "stdout",
     "output_type": "stream",
     "text": [
      "[Interrupt(value={'text_to_revise': 'original text'}, resumable=True, ns=['human_node:0d8cf924-1064-b088-c20f-fbc2dd17e80d'])]\n"
     ]
    },
    {
     "data": {
      "text/plain": [
       "{'some_text': 'revised textttttttttt'}"
      ]
     },
     "execution_count": 13,
     "metadata": {},
     "output_type": "execute_result"
    }
   ],
   "source": [
    "from typing import TypedDict\n",
    "import uuid\n",
    "\n",
    "from langgraph.checkpoint.memory import InMemorySaver\n",
    "from langgraph.constants import START\n",
    "from langgraph.graph import StateGraph\n",
    "from langgraph.types import interrupt, Command\n",
    "\n",
    "class State(TypedDict):\n",
    "    some_text: str\n",
    "\n",
    "def human_node(state: State):\n",
    "    value = interrupt( \n",
    "        {\n",
    "            \"text_to_revise\": state[\"some_text\"] \n",
    "        }\n",
    "    )\n",
    "    return {\n",
    "        \"some_text\": value \n",
    "    }\n",
    "\n",
    "\n",
    "# Build the graph\n",
    "graph_builder = StateGraph(State)\n",
    "graph_builder.add_node(\"human_node\", human_node)\n",
    "graph_builder.add_edge(START, \"human_node\")\n",
    "\n",
    "checkpointer = InMemorySaver() \n",
    "\n",
    "graph = graph_builder.compile(checkpointer=checkpointer)\n",
    "\n",
    "# Pass a thread ID to the graph to run it.\n",
    "config = {\"configurable\": {\"thread_id\": uuid.uuid4()}}\n",
    "\n",
    "# Run the graph until the interrupt is hit.\n",
    "result = graph.invoke({\"some_text\": \"original text\"}, config=config) \n",
    "\n",
    "print(result['__interrupt__']) \n",
    "# > [\n",
    "# >    Interrupt(\n",
    "# >       value={'text_to_revise': 'original text'}, \n",
    "# >       resumable=True,\n",
    "# >       ns=['human_node:6ce9e64f-edef-fe5d-f7dc-511fa9526960']\n",
    "# >    )\n",
    "# > ] \n",
    "user_input = input(\"Revise the text: \")\n",
    "\n",
    "graph.invoke(Command(resume=user_input), config=config)\n",
    "# > {'some_text': 'Edited text'}"
   ]
  }
 ],
 "metadata": {
  "kernelspec": {
   "display_name": "Python 3",
   "language": "python",
   "name": "python3"
  },
  "language_info": {
   "codemirror_mode": {
    "name": "ipython",
    "version": 3
   },
   "file_extension": ".py",
   "mimetype": "text/x-python",
   "name": "python",
   "nbconvert_exporter": "python",
   "pygments_lexer": "ipython3",
   "version": "3.11.2"
  }
 },
 "nbformat": 4,
 "nbformat_minor": 5
}
