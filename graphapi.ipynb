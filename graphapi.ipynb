{
 "cells": [
  {
   "cell_type": "code",
   "execution_count": 1,
   "id": "d9dbced7",
   "metadata": {},
   "outputs": [],
   "source": [
    "import getpass\n",
    "import os\n",
    "from dotenv import load_dotenv\n",
    "from langchain_openai import ChatOpenAI\n",
    "\n",
    "os.environ[\"LANGCHAIN_TRACING_V2\"] = \"true\"\n",
    "\n",
    "load_dotenv()\n",
    "if \"OPENAI_API_KEY\" not in os.environ:\n",
    "    os.environ[\"OPENAI_API_KEY\"] = getpass.getpass(\"Enter your OpenAI API key: \")\n",
    "if \"LANGCHAIN_API_KEY\" not in os.environ:\n",
    "    os.environ[\"LANGCHAIN_API_KEY\"] = getpass.getpass(\"Enter your LangChain API key: \")\n"
   ]
  },
  {
   "cell_type": "code",
   "execution_count": 2,
   "id": "46d92704",
   "metadata": {},
   "outputs": [],
   "source": [
    "from langchain_core.messages import AnyMessage, AIMessage\n",
    "from typing_extensions import TypedDict, Annotated\n",
    "\n",
    "def add(left, right):\n",
    "    return left + right\n",
    "\n",
    "class State(TypedDict):\n",
    "    # messages: list[AnyMessage]\n",
    "    messages: Annotated[list[AnyMessage], add] # tells langgraph to use add function to combine messages\n",
    "    extra_field: int\n",
    "\n",
    "def node(state:State):\n",
    "    # messages = state[\"messages\"]\n",
    "    new_message = AIMessage(\"Yo!\")\n",
    "    return {\"messages\":[new_message], \"extra_field\": 10}"
   ]
  },
  {
   "cell_type": "code",
   "execution_count": 3,
   "id": "9be7a06d",
   "metadata": {},
   "outputs": [
    {
     "name": "stdout",
     "output_type": "stream",
     "text": [
      "Graph structure (Mermaid syntax):\n",
      "---\n",
      "config:\n",
      "  flowchart:\n",
      "    curve: linear\n",
      "---\n",
      "graph TD;\n",
      "\t__start__([<p>__start__</p>]):::first\n",
      "\tnode(node)\n",
      "\t__end__([<p>__end__</p>]):::last\n",
      "\t__start__ --> node;\n",
      "\tnode --> __end__;\n",
      "\tclassDef default fill:#f2f0ff,line-height:1.2\n",
      "\tclassDef first fill-opacity:0\n",
      "\tclassDef last fill:#bfb6fc\n",
      "\n"
     ]
    }
   ],
   "source": [
    "from langgraph.graph import StateGraph\n",
    "from IPython.display import display, Image\n",
    "\n",
    "# State is already defined in a previous cell, so we can use it directly\n",
    "builder = StateGraph(State)     # langgraph knows that messages should be combined using the `add` function\n",
    "builder.add_node(node)\n",
    "builder.set_entry_point(\"node\")\n",
    "graph = builder.compile()\n",
    "\n",
    "# Show the Mermaid syntax (text representation)\n",
    "print(\"Graph structure (Mermaid syntax):\")\n",
    "print(graph.get_graph().draw_mermaid())"
   ]
  },
  {
   "cell_type": "code",
   "execution_count": 4,
   "id": "0234ecf9",
   "metadata": {},
   "outputs": [
    {
     "name": "stdout",
     "output_type": "stream",
     "text": [
      "================================\u001b[1m Human Message \u001b[0m=================================\n",
      "\n",
      "Hi\n",
      "==================================\u001b[1m Ai Message \u001b[0m==================================\n",
      "\n",
      "Yo!\n"
     ]
    }
   ],
   "source": [
    "from langchain_core.messages import HumanMessage\n",
    "\n",
    "result = graph.invoke({\"messages\": [HumanMessage(\"Hi\")]})\n",
    "for message in result[\"messages\"]:\n",
    "    message.pretty_print()"
   ]
  },
  {
   "cell_type": "code",
   "execution_count": 5,
   "id": "d24b8b35",
   "metadata": {},
   "outputs": [],
   "source": [
    "# Runtime Configuration Example\n",
    "from langchain_core.runnables import RunnableConfig\n",
    "from langgraph.graph import START, END\n",
    "\n",
    "class ConfigSchema(TypedDict):\n",
    "    my_runtime_value: str\n",
    "\n",
    "# Use different name to avoid conflict with earlier State class\n",
    "class ConfigurableState(TypedDict):\n",
    "    my_state_value: str\n",
    "\n",
    "# Use different name to avoid conflict with earlier node function\n",
    "def configurable_node(state: ConfigurableState, config: RunnableConfig):\n",
    "    if config[\"configurable\"][\"my_runtime_value\"] == \"foo\":\n",
    "        return {\"my_state_value\": \"bar\"}\n",
    "    elif config[\"configurable\"][\"my_runtime_value\"] == \"baz\":\n",
    "        return {\"my_state_value\": \"qux\"}\n",
    "    else:\n",
    "        raise ValueError(\"Invalid runtime value\")\n",
    "\n",
    "# Use different variable names to avoid conflicts\n",
    "configurable_builder = StateGraph(ConfigurableState, config_schema=ConfigSchema)\n",
    "configurable_builder.add_node(\"configurable_node\", configurable_node)\n",
    "configurable_builder.add_edge(START, \"configurable_node\")\n",
    "configurable_builder.add_edge(\"configurable_node\", END)\n",
    "\n",
    "configurable_graph = configurable_builder.compile()"
   ]
  },
  {
   "cell_type": "code",
   "execution_count": 6,
   "id": "e3b0fc2d",
   "metadata": {},
   "outputs": [
    {
     "name": "stdout",
     "output_type": "stream",
     "text": [
      "=== Testing with runtime value 'foo' ===\n",
      "State value: bar\n",
      "\n",
      "=== Testing with runtime value 'baz' ===\n",
      "State value: qux\n",
      "\n",
      "=== Testing with invalid value (will raise error) ===\n",
      "Error caught: Invalid runtime value\n"
     ]
    }
   ],
   "source": [
    "# Test the configurable graph with different runtime values\n",
    "\n",
    "print(\"=== Testing with runtime value 'foo' ===\")\n",
    "result_foo = configurable_graph.invoke(\n",
    "    {\"my_state_value\": \"initial\"}, \n",
    "    {\"configurable\": {\"my_runtime_value\": \"foo\"}}\n",
    ")\n",
    "print(f\"State value: {result_foo['my_state_value']}\")\n",
    "\n",
    "print(\"\\n=== Testing with runtime value 'baz' ===\")\n",
    "result_baz = configurable_graph.invoke(\n",
    "    {\"my_state_value\": \"initial\"}, \n",
    "    {\"configurable\": {\"my_runtime_value\": \"baz\"}}\n",
    ")\n",
    "print(f\"State value: {result_baz['my_state_value']}\")\n",
    "\n",
    "print(\"\\n=== Testing with invalid value (will raise error) ===\")\n",
    "try:\n",
    "    result_invalid = configurable_graph.invoke(\n",
    "        {\"my_state_value\": \"initial\"}, \n",
    "        {\"configurable\": {\"my_runtime_value\": \"invalid\"}}\n",
    "    )\n",
    "except ValueError as e:\n",
    "    print(f\"Error caught: {e}\")"
   ]
  }
 ],
 "metadata": {
  "kernelspec": {
   "display_name": "Python 3",
   "language": "python",
   "name": "python3"
  },
  "language_info": {
   "codemirror_mode": {
    "name": "ipython",
    "version": 3
   },
   "file_extension": ".py",
   "mimetype": "text/x-python",
   "name": "python",
   "nbconvert_exporter": "python",
   "pygments_lexer": "ipython3",
   "version": "3.11.2"
  }
 },
 "nbformat": 4,
 "nbformat_minor": 5
}
