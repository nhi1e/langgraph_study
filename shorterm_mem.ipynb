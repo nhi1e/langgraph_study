{
 "cells": [
  {
   "cell_type": "code",
   "execution_count": 8,
   "id": "e5107789",
   "metadata": {},
   "outputs": [],
   "source": [
    "import getpass\n",
    "import os\n",
    "from dotenv import load_dotenv\n",
    "from langchain_openai import ChatOpenAI\n",
    "\n",
    "os.environ[\"LANGCHAIN_TRACING_V2\"] = \"true\"\n",
    "\n",
    "load_dotenv()\n",
    "if \"OPENAI_API_KEY\" not in os.environ:\n",
    "    os.environ[\"OPENAI_API_KEY\"] = getpass.getpass(\"Enter your OpenAI API key: \")\n",
    "if \"LANGCHAIN_API_KEY\" not in os.environ:\n",
    "    os.environ[\"LANGCHAIN_API_KEY\"] = getpass.getpass(\"Enter your LangChain API key: \")"
   ]
  },
  {
   "cell_type": "code",
   "execution_count": 9,
   "id": "07dc3427",
   "metadata": {},
   "outputs": [],
   "source": [
    "from typing import Annotated\n",
    "from langchain_core.tools import InjectedToolCallId\n",
    "from langchain_core.runnables import RunnableConfig\n",
    "from langchain_core.messages import ToolMessage\n",
    "from langgraph.prebuilt import InjectedState, create_react_agent\n",
    "from langgraph.prebuilt.chat_agent_executor import AgentState\n",
    "from langgraph.types import Command\n",
    "\n",
    "class CustomState(AgentState):\n",
    "    user_name: str\n",
    "\n",
    "def update_user_info(\n",
    "        tool_call_id: Annotated[str, InjectedToolCallId],\n",
    "        config: RunnableConfig\n",
    ") -> Command:\n",
    "    \"\"\"Look up and udpate user info.\"\"\"\n",
    "    user_id = config[\"configurable\"].get(\"user_id\")\n",
    "    name = \"Nheo\" if user_id == \"user_123\" else \"Unknown\"\n",
    "    return Command(update={ \n",
    "        \"user_name\":name,\n",
    "        \"messages\": [ToolMessage(\"Successfully looked up user info\", tool_call_id=tool_call_id)],}\n",
    "    )\n",
    "\n",
    "def greet(state: Annotated[CustomState, InjectedState]) -> str:\n",
    "    \"\"\"Use this to greet the user once you found their info.\"\"\"\n",
    "    user_name = state[\"user_name\"]\n",
    "    return f\"Howdy {user_name}, how can I help you today?\""
   ]
  },
  {
   "cell_type": "code",
   "execution_count": 10,
   "id": "7a168db2",
   "metadata": {},
   "outputs": [],
   "source": [
    "agent = create_react_agent(\n",
    "    model = ChatOpenAI(temperature=0.0, model=\"gpt-4o\"),\n",
    "    tools = [update_user_info, greet],\n",
    "    state_schema=CustomState\n",
    ")"
   ]
  },
  {
   "cell_type": "code",
   "execution_count": 11,
   "id": "13929cfc",
   "metadata": {},
   "outputs": [
    {
     "data": {
      "text/plain": [
       "{'messages': [HumanMessage(content='greet the user', additional_kwargs={}, response_metadata={}, id='85b84361-ad80-4a65-96ce-ccc476ddbdc4'),\n",
       "  AIMessage(content='', additional_kwargs={'tool_calls': [{'id': 'call_wXzSDF9glDA3ZvJ9Np2zFPaw', 'function': {'arguments': '{}', 'name': 'update_user_info'}, 'type': 'function'}, {'id': 'call_zOxN2D3xS9ARQDAvek1Vi5q9', 'function': {'arguments': '{}', 'name': 'greet'}, 'type': 'function'}], 'refusal': None}, response_metadata={'token_usage': {'completion_tokens': 40, 'prompt_tokens': 63, 'total_tokens': 103, 'completion_tokens_details': {'accepted_prediction_tokens': 0, 'audio_tokens': 0, 'reasoning_tokens': 0, 'rejected_prediction_tokens': 0}, 'prompt_tokens_details': {'audio_tokens': 0, 'cached_tokens': 0}}, 'model_name': 'gpt-4o-2024-08-06', 'system_fingerprint': 'fp_07871e2ad8', 'id': 'chatcmpl-BpVwKtQjnUf4UvFam9onziafCBt0z', 'service_tier': 'default', 'finish_reason': 'tool_calls', 'logprobs': None}, id='run--d09fc955-a16f-4ea1-ad69-46b7aca896e3-0', tool_calls=[{'name': 'update_user_info', 'args': {}, 'id': 'call_wXzSDF9glDA3ZvJ9Np2zFPaw', 'type': 'tool_call'}, {'name': 'greet', 'args': {}, 'id': 'call_zOxN2D3xS9ARQDAvek1Vi5q9', 'type': 'tool_call'}], usage_metadata={'input_tokens': 63, 'output_tokens': 40, 'total_tokens': 103, 'input_token_details': {'audio': 0, 'cache_read': 0}, 'output_token_details': {'audio': 0, 'reasoning': 0}}),\n",
       "  ToolMessage(content='Successfully looked up user info', name='update_user_info', id='fa00d86e-b042-4f7b-a4fd-ee42eb2978ff', tool_call_id='call_wXzSDF9glDA3ZvJ9Np2zFPaw'),\n",
       "  ToolMessage(content=\"Error: 1 validation error for greet\\nstate.user_name\\n  Field required [type=missing, input_value={'messages': [HumanMessag..., 'remaining_steps': 24}, input_type=dict]\\n    For further information visit https://errors.pydantic.dev/2.10/v/missing\\n Please fix your mistakes.\", name='greet', id='40be39e4-deba-4a3b-be78-64ca19637e3a', tool_call_id='call_zOxN2D3xS9ARQDAvek1Vi5q9', status='error'),\n",
       "  AIMessage(content='It seems there was an issue with greeting the user because the user name is missing. However, I successfully looked up the user info. Let me try greeting the user again.', additional_kwargs={'tool_calls': [{'id': 'call_v0DHZL9dwYBkMNZ6JZi5W9zN', 'function': {'arguments': '{}', 'name': 'greet'}, 'type': 'function'}], 'refusal': None}, response_metadata={'token_usage': {'completion_tokens': 46, 'prompt_tokens': 190, 'total_tokens': 236, 'completion_tokens_details': {'accepted_prediction_tokens': 0, 'audio_tokens': 0, 'reasoning_tokens': 0, 'rejected_prediction_tokens': 0}, 'prompt_tokens_details': {'audio_tokens': 0, 'cached_tokens': 0}}, 'model_name': 'gpt-4o-2024-08-06', 'system_fingerprint': 'fp_07871e2ad8', 'id': 'chatcmpl-BpVwMYl57bfdvVIYsqvuYCstXC1Z4', 'service_tier': 'default', 'finish_reason': 'tool_calls', 'logprobs': None}, id='run--e718bdd3-01cb-4809-8ca9-420cf701f87d-0', tool_calls=[{'name': 'greet', 'args': {}, 'id': 'call_v0DHZL9dwYBkMNZ6JZi5W9zN', 'type': 'tool_call'}], usage_metadata={'input_tokens': 190, 'output_tokens': 46, 'total_tokens': 236, 'input_token_details': {'audio': 0, 'cache_read': 0}, 'output_token_details': {'audio': 0, 'reasoning': 0}}),\n",
       "  ToolMessage(content='Howdy Nheo, how can I help you today?', name='greet', id='1f395e59-2e6c-4ac0-9394-9f201a756f7c', tool_call_id='call_v0DHZL9dwYBkMNZ6JZi5W9zN'),\n",
       "  AIMessage(content='Howdy Nheo, how can I help you today?', additional_kwargs={'refusal': None}, response_metadata={'token_usage': {'completion_tokens': 12, 'prompt_tokens': 258, 'total_tokens': 270, 'completion_tokens_details': {'accepted_prediction_tokens': 0, 'audio_tokens': 0, 'reasoning_tokens': 0, 'rejected_prediction_tokens': 0}, 'prompt_tokens_details': {'audio_tokens': 0, 'cached_tokens': 0}}, 'model_name': 'gpt-4o-2024-08-06', 'system_fingerprint': 'fp_07871e2ad8', 'id': 'chatcmpl-BpVwPIflka4SZ1UQpvTehXc5f3p7T', 'service_tier': 'default', 'finish_reason': 'stop', 'logprobs': None}, id='run--bd26ee5b-4e31-45e7-b877-586c1613af67-0', usage_metadata={'input_tokens': 258, 'output_tokens': 12, 'total_tokens': 270, 'input_token_details': {'audio': 0, 'cache_read': 0}, 'output_token_details': {'audio': 0, 'reasoning': 0}})],\n",
       " 'user_name': 'Nheo'}"
      ]
     },
     "execution_count": 11,
     "metadata": {},
     "output_type": "execute_result"
    }
   ],
   "source": [
    "agent.invoke(\n",
    "    {\"messages\": [{\"role\": \"user\", \"content\": \"greet the user\"}]},\n",
    "    config={\"configurable\": {\"user_id\": \"user_123\"}}\n",
    ")"
   ]
  }
 ],
 "metadata": {
  "kernelspec": {
   "display_name": "Python 3",
   "language": "python",
   "name": "python3"
  },
  "language_info": {
   "codemirror_mode": {
    "name": "ipython",
    "version": 3
   },
   "file_extension": ".py",
   "mimetype": "text/x-python",
   "name": "python",
   "nbconvert_exporter": "python",
   "pygments_lexer": "ipython3",
   "version": "3.11.2"
  }
 },
 "nbformat": 4,
 "nbformat_minor": 5
}
