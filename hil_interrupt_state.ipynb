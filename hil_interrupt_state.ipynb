{
 "cells": [
  {
   "cell_type": "code",
   "execution_count": null,
   "id": "4769eae2",
   "metadata": {},
   "outputs": [
    {
     "name": "stdout",
     "output_type": "stream",
     "text": [
      "[Interrupt(value={'task': 'Please review and edit the generated summary if necessary.', 'generated_summary': 'The cat sat on the mat and looked at the stars.'}, resumable=True, ns=['human_review_edit:811458da-d9a3-0eb0-bc90-1f114bcb18e0'])]\n",
      "✅ Using edited summary: The cat lay on the rug, gazing peacefully at the night sky.\n",
      "{'summary': 'The cat lay on the rug, gazing peacefully at the night sky.'}\n"
     ]
    }
   ],
   "source": [
    "from typing import TypedDict\n",
    "import uuid\n",
    "\n",
    "from langgraph.constants import START, END\n",
    "from langgraph.graph import StateGraph\n",
    "from langgraph.types import interrupt, Command\n",
    "from langgraph.checkpoint.memory import MemorySaver\n",
    "\n",
    "# Define the graph state\n",
    "class State(TypedDict):\n",
    "    summary: str\n",
    "\n",
    "# Simulate an LLM summary generation\n",
    "def generate_summary(state: State) -> State:\n",
    "    return {\n",
    "        \"summary\": \"The cat sat on the mat and looked at the stars.\"\n",
    "    }\n",
    "\n",
    "# Human editing node\n",
    "def human_review_edit(state: State) -> State:\n",
    "    result = interrupt({\n",
    "        \"task\": \"Please review and edit the generated summary if necessary.\",\n",
    "        \"generated_summary\": state[\"summary\"]\n",
    "    })\n",
    "    return {\n",
    "        \"summary\": result[\"edited_summary\"]\n",
    "    }\n",
    "\n",
    "# Simulate downstream use of the edited summary\n",
    "def downstream_use(state: State) -> State:\n",
    "    print(f\"✅ Using edited summary: {state['summary']}\")\n",
    "    return state\n",
    "\n",
    "# Build the graph\n",
    "builder = StateGraph(State)\n",
    "builder.add_node(\"generate_summary\", generate_summary)\n",
    "builder.add_node(\"human_review_edit\", human_review_edit)\n",
    "builder.add_node(\"downstream_use\", downstream_use)\n",
    "\n",
    "builder.set_entry_point(\"generate_summary\")\n",
    "builder.add_edge(\"generate_summary\", \"human_review_edit\")\n",
    "builder.add_edge(\"human_review_edit\", \"downstream_use\")\n",
    "builder.add_edge(\"downstream_use\", END)\n",
    "\n",
    "# Set up in-memory checkpointing for interrupt support\n",
    "checkpointer = MemorySaver()\n",
    "graph = builder.compile(checkpointer=checkpointer)\n",
    "\n",
    "# Invoke the graph until it hits the interrupt\n",
    "config = {\"configurable\": {\"thread_id\": uuid.uuid4()}}\n",
    "result = graph.invoke({}, config=config)\n",
    "\n",
    "# Output interrupt payload\n",
    "print(result[\"__interrupt__\"])\n",
    "\n",
    "# Resume the graph with human-edited input\n",
    "edited_summary = \"The cat lay on the rug, gazing peacefully at the night sky.\"\n",
    "resumed_result = graph.invoke(\n",
    "    Command(resume={\"edited_summary\": edited_summary}),\n",
    "    config=config\n",
    ")\n",
    "print(resumed_result)"
   ]
  }
 ],
 "metadata": {
  "kernelspec": {
   "display_name": "Python 3",
   "language": "python",
   "name": "python3"
  },
  "language_info": {
   "codemirror_mode": {
    "name": "ipython",
    "version": 3
   },
   "file_extension": ".py",
   "mimetype": "text/x-python",
   "name": "python",
   "nbconvert_exporter": "python",
   "pygments_lexer": "ipython3",
   "version": "3.11.2"
  }
 },
 "nbformat": 4,
 "nbformat_minor": 5
}
