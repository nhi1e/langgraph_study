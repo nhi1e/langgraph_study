{
 "cells": [
  {
   "cell_type": "code",
   "execution_count": 8,
   "id": "3e4ea950",
   "metadata": {},
   "outputs": [],
   "source": [
    "import getpass\n",
    "import os\n",
    "from dotenv import load_dotenv\n",
    "from langchain.chat_models import init_chat_model\n",
    "\n",
    "os.environ[\"LANGCHAIN_TRACING_V2\"] = \"true\"\n",
    "\n",
    "load_dotenv()\n",
    "if \"OPENAI_API_KEY\" not in os.environ:\n",
    "    os.environ[\"OPENAI_API_KEY\"] = getpass.getpass(\"Enter your OpenAI API key: \")\n",
    "if \"LANGCHAIN_API_KEY\" not in os.environ:\n",
    "    os.environ[\"LANGCHAIN_API_KEY\"] = getpass.getpass(\"Enter your LangChain API key: \")\n",
    "\n",
    "model = init_chat_model(\n",
    "    \"openai:gpt-4o\",\n",
    "    temperature=0.7\n",
    ")"
   ]
  },
  {
   "cell_type": "code",
   "execution_count": 10,
   "id": "31bd6f38",
   "metadata": {},
   "outputs": [
    {
     "name": "stdout",
     "output_type": "stream",
     "text": [
      "=== Chat Transcript ===\n",
      "\n",
      "[HUMAN]\n",
      "what's the weather in sf?\n",
      "\n",
      "[AI]\n",
      "\n",
      "\n",
      "[TOOL]\n",
      "It's 90 degrees and sunny\n",
      "\n",
      "[AI]\n",
      "The weather in San Francisco is currently 90 degrees and sunny.\n"
     ]
    }
   ],
   "source": [
    "from langchain.chat_models import init_chat_model\n",
    "from langgraph.prebuilt import ToolNode\n",
    "from langgraph.graph import StateGraph, MessagesState, START, END\n",
    "from langchain_core.messages import BaseMessage\n",
    "\n",
    "def get_weather(location: str):\n",
    "    \"\"\"Call to get the current weather\"\"\"\n",
    "    if location.lower() in [\"sf\", \"san francisco\"]:\n",
    "        return \"It's 60 degrees and foggy\"\n",
    "    else: \n",
    "        return \"It's 90 degrees and sunny\"\n",
    "\n",
    "tool_node = ToolNode([get_weather]) # Define a tool node that can be called by the LLM\n",
    "\n",
    "model_with_tools = model.bind_tools([get_weather])\n",
    "\n",
    "def should_continue(state: MessagesState):\n",
    "    messages = state[\"messages\"]\n",
    "    last_message = messages[-1]\n",
    "    if last_message.tool_calls: # Checks if the last message from the LLM included any tool calls.\n",
    "        return \"tools\"\n",
    "    return END\n",
    "\n",
    "def call_model(state: MessagesState):\n",
    "    messages = state[\"messages\"]\n",
    "    response = model_with_tools.invoke(messages)\n",
    "    return {\"messages\": [response]}\n",
    "\n",
    "builder = StateGraph(MessagesState)\n",
    "builder.add_node(\"call_model\", call_model)\n",
    "builder.add_node(\"tools\", tool_node)\n",
    "\n",
    "builder.add_edge(START, \"call_model\")\n",
    "builder.add_conditional_edges(\"call_model\", should_continue, [\"tools\", END])\n",
    "builder.add_edge(\"tools\", \"call_model\")\n",
    "\n",
    "graph = builder.compile()\n",
    "\n",
    "\n",
    "# Run the graph and capture the result\n",
    "result = graph.invoke({\"messages\": [{\"role\": \"user\", \"content\": \"what's the weather in sf?\"}]})\n",
    "\n",
    "# Pretty-print the messages like a chat\n",
    "print(\"=== Chat Transcript ===\")\n",
    "for msg in result[\"messages\"]:\n",
    "    if isinstance(msg, BaseMessage):\n",
    "        role = getattr(msg, \"role\", msg.__class__.__name__.replace(\"Message\", \"\").lower())\n",
    "        content = msg.content.strip() if msg.content else \"\"\n",
    "        print(f\"\\n[{role.upper()}]\")\n",
    "        print(content)\n",
    "    else:\n",
    "        print(f\"\\n[OTHER]\\n{msg}\")"
   ]
  }
 ],
 "metadata": {
  "kernelspec": {
   "display_name": "Python 3",
   "language": "python",
   "name": "python3"
  },
  "language_info": {
   "codemirror_mode": {
    "name": "ipython",
    "version": 3
   },
   "file_extension": ".py",
   "mimetype": "text/x-python",
   "name": "python",
   "nbconvert_exporter": "python",
   "pygments_lexer": "ipython3",
   "version": "3.11.2"
  }
 },
 "nbformat": 4,
 "nbformat_minor": 5
}
